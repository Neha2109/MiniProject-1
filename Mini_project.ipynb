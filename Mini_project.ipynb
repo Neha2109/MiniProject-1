{
  "cells": [
    {
      "cell_type": "code",
      "execution_count": null,
      "metadata": {
        "id": "pt5646b4xChx"
      },
      "outputs": [],
      "source": [
        "import csv\n",
        "import warnings\n",
        "import numpy as np\n",
        "import pandas as pd\n",
        "import seaborn as sns\n",
        "from sklearn import svm\n",
        "from sklearn.svm import SVC\n",
        "import matplotlib.pyplot as plt\n",
        "from sklearn.tree import DecisionTreeClassifier\n",
        "from sklearn.metrics import classification_report\n",
        "from sklearn.neighbors import KNeighborsClassifier\n",
        "from sklearn.linear_model import LogisticRegression \n",
        "from sklearn.ensemble import RandomForestClassifier\n",
        "from sklearn.model_selection import train_test_split\n",
        "from sklearn.ensemble import GradientBoostingClassifier\n",
        "from sklearn. metrics import confusion_matrix, f1_score, accuracy_score, recall_score, precision_score"
      ]
    },
    {
      "cell_type": "code",
      "source": [
        "target_names = ['Openness', 'Conscientiousness' , 'Extraversion' , 'Agreeableness' , 'Neuroticism']"
      ],
      "metadata": {
        "id": "Yzr0cHrmNI7m"
      },
      "execution_count": null,
      "outputs": []
    },
    {
      "cell_type": "markdown",
      "metadata": {
        "id": "Dn3g9WGO5GZE"
      },
      "source": [
        "## load data into a pandas dataframe"
      ]
    },
    {
      "cell_type": "code",
      "execution_count": null,
      "metadata": {
        "colab": {
          "base_uri": "https://localhost:8080/"
        },
        "id": "lf6AkAuL4qIL",
        "outputId": "5af78712-d978-4b62-cd52-e6cb78487bc5"
      },
      "outputs": [
        {
          "output_type": "execute_result",
          "data": {
            "text/plain": [
              "(133, 15)"
            ]
          },
          "metadata": {},
          "execution_count": 310
        }
      ],
      "source": [
        "# separate features and labels\n",
        "df = pd.read_csv('/content/Categories Of Facial Features - Sheet1.csv')\n",
        "\n",
        "df = df.dropna()\n",
        "\n",
        "df.shape"
      ]
    },
    {
      "cell_type": "markdown",
      "metadata": {
        "id": "vKroCTrnqnKN"
      },
      "source": [
        "CLEANSING DATASET"
      ]
    },
    {
      "cell_type": "code",
      "execution_count": null,
      "metadata": {
        "colab": {
          "base_uri": "https://localhost:8080/",
          "height": 206
        },
        "id": "EstL4vU8_QXD",
        "outputId": "34650100-e89c-4721-edf3-1d76f2465218"
      },
      "outputs": [
        {
          "output_type": "execute_result",
          "data": {
            "text/plain": [
              "   loE  soE  thickE  thinE  broadF  tinyF  loFA  wiFA  fleshyC  normalC  loN  \\\n",
              "0    1    0       1      0       1      0     0     1        0        1    1   \n",
              "1    1    0       1      0       0      1     1     0        0        1    1   \n",
              "2    0    1       0      1       1      0     0     1        1        0    1   \n",
              "3    0    1       0      1       1      0     0     1        0        1    0   \n",
              "4    1    0       1      0       0      1     0     1        0        1    1   \n",
              "\n",
              "   soN  shN  blN  per  \n",
              "0    0    0    1    1  \n",
              "1    0    1    0    2  \n",
              "2    0    0    1    2  \n",
              "3    1    0    1    0  \n",
              "4    0    0    1    0  "
            ],
            "text/html": [
              "\n",
              "  <div id=\"df-e74c413f-4e30-4639-be8d-fb1d308df210\">\n",
              "    <div class=\"colab-df-container\">\n",
              "      <div>\n",
              "<style scoped>\n",
              "    .dataframe tbody tr th:only-of-type {\n",
              "        vertical-align: middle;\n",
              "    }\n",
              "\n",
              "    .dataframe tbody tr th {\n",
              "        vertical-align: top;\n",
              "    }\n",
              "\n",
              "    .dataframe thead th {\n",
              "        text-align: right;\n",
              "    }\n",
              "</style>\n",
              "<table border=\"1\" class=\"dataframe\">\n",
              "  <thead>\n",
              "    <tr style=\"text-align: right;\">\n",
              "      <th></th>\n",
              "      <th>loE</th>\n",
              "      <th>soE</th>\n",
              "      <th>thickE</th>\n",
              "      <th>thinE</th>\n",
              "      <th>broadF</th>\n",
              "      <th>tinyF</th>\n",
              "      <th>loFA</th>\n",
              "      <th>wiFA</th>\n",
              "      <th>fleshyC</th>\n",
              "      <th>normalC</th>\n",
              "      <th>loN</th>\n",
              "      <th>soN</th>\n",
              "      <th>shN</th>\n",
              "      <th>blN</th>\n",
              "      <th>per</th>\n",
              "    </tr>\n",
              "  </thead>\n",
              "  <tbody>\n",
              "    <tr>\n",
              "      <th>0</th>\n",
              "      <td>1</td>\n",
              "      <td>0</td>\n",
              "      <td>1</td>\n",
              "      <td>0</td>\n",
              "      <td>1</td>\n",
              "      <td>0</td>\n",
              "      <td>0</td>\n",
              "      <td>1</td>\n",
              "      <td>0</td>\n",
              "      <td>1</td>\n",
              "      <td>1</td>\n",
              "      <td>0</td>\n",
              "      <td>0</td>\n",
              "      <td>1</td>\n",
              "      <td>1</td>\n",
              "    </tr>\n",
              "    <tr>\n",
              "      <th>1</th>\n",
              "      <td>1</td>\n",
              "      <td>0</td>\n",
              "      <td>1</td>\n",
              "      <td>0</td>\n",
              "      <td>0</td>\n",
              "      <td>1</td>\n",
              "      <td>1</td>\n",
              "      <td>0</td>\n",
              "      <td>0</td>\n",
              "      <td>1</td>\n",
              "      <td>1</td>\n",
              "      <td>0</td>\n",
              "      <td>1</td>\n",
              "      <td>0</td>\n",
              "      <td>2</td>\n",
              "    </tr>\n",
              "    <tr>\n",
              "      <th>2</th>\n",
              "      <td>0</td>\n",
              "      <td>1</td>\n",
              "      <td>0</td>\n",
              "      <td>1</td>\n",
              "      <td>1</td>\n",
              "      <td>0</td>\n",
              "      <td>0</td>\n",
              "      <td>1</td>\n",
              "      <td>1</td>\n",
              "      <td>0</td>\n",
              "      <td>1</td>\n",
              "      <td>0</td>\n",
              "      <td>0</td>\n",
              "      <td>1</td>\n",
              "      <td>2</td>\n",
              "    </tr>\n",
              "    <tr>\n",
              "      <th>3</th>\n",
              "      <td>0</td>\n",
              "      <td>1</td>\n",
              "      <td>0</td>\n",
              "      <td>1</td>\n",
              "      <td>1</td>\n",
              "      <td>0</td>\n",
              "      <td>0</td>\n",
              "      <td>1</td>\n",
              "      <td>0</td>\n",
              "      <td>1</td>\n",
              "      <td>0</td>\n",
              "      <td>1</td>\n",
              "      <td>0</td>\n",
              "      <td>1</td>\n",
              "      <td>0</td>\n",
              "    </tr>\n",
              "    <tr>\n",
              "      <th>4</th>\n",
              "      <td>1</td>\n",
              "      <td>0</td>\n",
              "      <td>1</td>\n",
              "      <td>0</td>\n",
              "      <td>0</td>\n",
              "      <td>1</td>\n",
              "      <td>0</td>\n",
              "      <td>1</td>\n",
              "      <td>0</td>\n",
              "      <td>1</td>\n",
              "      <td>1</td>\n",
              "      <td>0</td>\n",
              "      <td>0</td>\n",
              "      <td>1</td>\n",
              "      <td>0</td>\n",
              "    </tr>\n",
              "  </tbody>\n",
              "</table>\n",
              "</div>\n",
              "      <button class=\"colab-df-convert\" onclick=\"convertToInteractive('df-e74c413f-4e30-4639-be8d-fb1d308df210')\"\n",
              "              title=\"Convert this dataframe to an interactive table.\"\n",
              "              style=\"display:none;\">\n",
              "        \n",
              "  <svg xmlns=\"http://www.w3.org/2000/svg\" height=\"24px\"viewBox=\"0 0 24 24\"\n",
              "       width=\"24px\">\n",
              "    <path d=\"M0 0h24v24H0V0z\" fill=\"none\"/>\n",
              "    <path d=\"M18.56 5.44l.94 2.06.94-2.06 2.06-.94-2.06-.94-.94-2.06-.94 2.06-2.06.94zm-11 1L8.5 8.5l.94-2.06 2.06-.94-2.06-.94L8.5 2.5l-.94 2.06-2.06.94zm10 10l.94 2.06.94-2.06 2.06-.94-2.06-.94-.94-2.06-.94 2.06-2.06.94z\"/><path d=\"M17.41 7.96l-1.37-1.37c-.4-.4-.92-.59-1.43-.59-.52 0-1.04.2-1.43.59L10.3 9.45l-7.72 7.72c-.78.78-.78 2.05 0 2.83L4 21.41c.39.39.9.59 1.41.59.51 0 1.02-.2 1.41-.59l7.78-7.78 2.81-2.81c.8-.78.8-2.07 0-2.86zM5.41 20L4 18.59l7.72-7.72 1.47 1.35L5.41 20z\"/>\n",
              "  </svg>\n",
              "      </button>\n",
              "      \n",
              "  <style>\n",
              "    .colab-df-container {\n",
              "      display:flex;\n",
              "      flex-wrap:wrap;\n",
              "      gap: 12px;\n",
              "    }\n",
              "\n",
              "    .colab-df-convert {\n",
              "      background-color: #E8F0FE;\n",
              "      border: none;\n",
              "      border-radius: 50%;\n",
              "      cursor: pointer;\n",
              "      display: none;\n",
              "      fill: #1967D2;\n",
              "      height: 32px;\n",
              "      padding: 0 0 0 0;\n",
              "      width: 32px;\n",
              "    }\n",
              "\n",
              "    .colab-df-convert:hover {\n",
              "      background-color: #E2EBFA;\n",
              "      box-shadow: 0px 1px 2px rgba(60, 64, 67, 0.3), 0px 1px 3px 1px rgba(60, 64, 67, 0.15);\n",
              "      fill: #174EA6;\n",
              "    }\n",
              "\n",
              "    [theme=dark] .colab-df-convert {\n",
              "      background-color: #3B4455;\n",
              "      fill: #D2E3FC;\n",
              "    }\n",
              "\n",
              "    [theme=dark] .colab-df-convert:hover {\n",
              "      background-color: #434B5C;\n",
              "      box-shadow: 0px 1px 3px 1px rgba(0, 0, 0, 0.15);\n",
              "      filter: drop-shadow(0px 1px 2px rgba(0, 0, 0, 0.3));\n",
              "      fill: #FFFFFF;\n",
              "    }\n",
              "  </style>\n",
              "\n",
              "      <script>\n",
              "        const buttonEl =\n",
              "          document.querySelector('#df-e74c413f-4e30-4639-be8d-fb1d308df210 button.colab-df-convert');\n",
              "        buttonEl.style.display =\n",
              "          google.colab.kernel.accessAllowed ? 'block' : 'none';\n",
              "\n",
              "        async function convertToInteractive(key) {\n",
              "          const element = document.querySelector('#df-e74c413f-4e30-4639-be8d-fb1d308df210');\n",
              "          const dataTable =\n",
              "            await google.colab.kernel.invokeFunction('convertToInteractive',\n",
              "                                                     [key], {});\n",
              "          if (!dataTable) return;\n",
              "\n",
              "          const docLinkHtml = 'Like what you see? Visit the ' +\n",
              "            '<a target=\"_blank\" href=https://colab.research.google.com/notebooks/data_table.ipynb>data table notebook</a>'\n",
              "            + ' to learn more about interactive tables.';\n",
              "          element.innerHTML = '';\n",
              "          dataTable['output_type'] = 'display_data';\n",
              "          await google.colab.output.renderOutput(dataTable, element);\n",
              "          const docLink = document.createElement('div');\n",
              "          docLink.innerHTML = docLinkHtml;\n",
              "          element.appendChild(docLink);\n",
              "        }\n",
              "      </script>\n",
              "    </div>\n",
              "  </div>\n",
              "  "
            ]
          },
          "metadata": {},
          "execution_count": 311
        }
      ],
      "source": [
        "df.columns = ['loE','soE','thickE','thinE','broadF','tinyF','loFA','wiFA','fleshyC','normalC','loN','soN','shN','blN','per']\n",
        "df.head()"
      ]
    },
    {
      "cell_type": "code",
      "execution_count": null,
      "metadata": {
        "id": "mrSnP2HByW4V"
      },
      "outputs": [],
      "source": [
        "x = df.iloc[:, :-1] # eye, lips, nose, face types\n",
        "y = df.iloc[:, -1] # personality types"
      ]
    },
    {
      "cell_type": "code",
      "source": [
        "x.head()"
      ],
      "metadata": {
        "colab": {
          "base_uri": "https://localhost:8080/",
          "height": 206
        },
        "id": "R3Wn21-5JxeU",
        "outputId": "0b726755-dc5a-4031-8a4d-ea2de6f4bb3f"
      },
      "execution_count": null,
      "outputs": [
        {
          "output_type": "execute_result",
          "data": {
            "text/plain": [
              "   loE  soE  thickE  thinE  broadF  tinyF  loFA  wiFA  fleshyC  normalC  loN  \\\n",
              "0    1    0       1      0       1      0     0     1        0        1    1   \n",
              "1    1    0       1      0       0      1     1     0        0        1    1   \n",
              "2    0    1       0      1       1      0     0     1        1        0    1   \n",
              "3    0    1       0      1       1      0     0     1        0        1    0   \n",
              "4    1    0       1      0       0      1     0     1        0        1    1   \n",
              "\n",
              "   soN  shN  blN  \n",
              "0    0    0    1  \n",
              "1    0    1    0  \n",
              "2    0    0    1  \n",
              "3    1    0    1  \n",
              "4    0    0    1  "
            ],
            "text/html": [
              "\n",
              "  <div id=\"df-7fda1faa-479a-434a-b88d-fea17d2e6465\">\n",
              "    <div class=\"colab-df-container\">\n",
              "      <div>\n",
              "<style scoped>\n",
              "    .dataframe tbody tr th:only-of-type {\n",
              "        vertical-align: middle;\n",
              "    }\n",
              "\n",
              "    .dataframe tbody tr th {\n",
              "        vertical-align: top;\n",
              "    }\n",
              "\n",
              "    .dataframe thead th {\n",
              "        text-align: right;\n",
              "    }\n",
              "</style>\n",
              "<table border=\"1\" class=\"dataframe\">\n",
              "  <thead>\n",
              "    <tr style=\"text-align: right;\">\n",
              "      <th></th>\n",
              "      <th>loE</th>\n",
              "      <th>soE</th>\n",
              "      <th>thickE</th>\n",
              "      <th>thinE</th>\n",
              "      <th>broadF</th>\n",
              "      <th>tinyF</th>\n",
              "      <th>loFA</th>\n",
              "      <th>wiFA</th>\n",
              "      <th>fleshyC</th>\n",
              "      <th>normalC</th>\n",
              "      <th>loN</th>\n",
              "      <th>soN</th>\n",
              "      <th>shN</th>\n",
              "      <th>blN</th>\n",
              "    </tr>\n",
              "  </thead>\n",
              "  <tbody>\n",
              "    <tr>\n",
              "      <th>0</th>\n",
              "      <td>1</td>\n",
              "      <td>0</td>\n",
              "      <td>1</td>\n",
              "      <td>0</td>\n",
              "      <td>1</td>\n",
              "      <td>0</td>\n",
              "      <td>0</td>\n",
              "      <td>1</td>\n",
              "      <td>0</td>\n",
              "      <td>1</td>\n",
              "      <td>1</td>\n",
              "      <td>0</td>\n",
              "      <td>0</td>\n",
              "      <td>1</td>\n",
              "    </tr>\n",
              "    <tr>\n",
              "      <th>1</th>\n",
              "      <td>1</td>\n",
              "      <td>0</td>\n",
              "      <td>1</td>\n",
              "      <td>0</td>\n",
              "      <td>0</td>\n",
              "      <td>1</td>\n",
              "      <td>1</td>\n",
              "      <td>0</td>\n",
              "      <td>0</td>\n",
              "      <td>1</td>\n",
              "      <td>1</td>\n",
              "      <td>0</td>\n",
              "      <td>1</td>\n",
              "      <td>0</td>\n",
              "    </tr>\n",
              "    <tr>\n",
              "      <th>2</th>\n",
              "      <td>0</td>\n",
              "      <td>1</td>\n",
              "      <td>0</td>\n",
              "      <td>1</td>\n",
              "      <td>1</td>\n",
              "      <td>0</td>\n",
              "      <td>0</td>\n",
              "      <td>1</td>\n",
              "      <td>1</td>\n",
              "      <td>0</td>\n",
              "      <td>1</td>\n",
              "      <td>0</td>\n",
              "      <td>0</td>\n",
              "      <td>1</td>\n",
              "    </tr>\n",
              "    <tr>\n",
              "      <th>3</th>\n",
              "      <td>0</td>\n",
              "      <td>1</td>\n",
              "      <td>0</td>\n",
              "      <td>1</td>\n",
              "      <td>1</td>\n",
              "      <td>0</td>\n",
              "      <td>0</td>\n",
              "      <td>1</td>\n",
              "      <td>0</td>\n",
              "      <td>1</td>\n",
              "      <td>0</td>\n",
              "      <td>1</td>\n",
              "      <td>0</td>\n",
              "      <td>1</td>\n",
              "    </tr>\n",
              "    <tr>\n",
              "      <th>4</th>\n",
              "      <td>1</td>\n",
              "      <td>0</td>\n",
              "      <td>1</td>\n",
              "      <td>0</td>\n",
              "      <td>0</td>\n",
              "      <td>1</td>\n",
              "      <td>0</td>\n",
              "      <td>1</td>\n",
              "      <td>0</td>\n",
              "      <td>1</td>\n",
              "      <td>1</td>\n",
              "      <td>0</td>\n",
              "      <td>0</td>\n",
              "      <td>1</td>\n",
              "    </tr>\n",
              "  </tbody>\n",
              "</table>\n",
              "</div>\n",
              "      <button class=\"colab-df-convert\" onclick=\"convertToInteractive('df-7fda1faa-479a-434a-b88d-fea17d2e6465')\"\n",
              "              title=\"Convert this dataframe to an interactive table.\"\n",
              "              style=\"display:none;\">\n",
              "        \n",
              "  <svg xmlns=\"http://www.w3.org/2000/svg\" height=\"24px\"viewBox=\"0 0 24 24\"\n",
              "       width=\"24px\">\n",
              "    <path d=\"M0 0h24v24H0V0z\" fill=\"none\"/>\n",
              "    <path d=\"M18.56 5.44l.94 2.06.94-2.06 2.06-.94-2.06-.94-.94-2.06-.94 2.06-2.06.94zm-11 1L8.5 8.5l.94-2.06 2.06-.94-2.06-.94L8.5 2.5l-.94 2.06-2.06.94zm10 10l.94 2.06.94-2.06 2.06-.94-2.06-.94-.94-2.06-.94 2.06-2.06.94z\"/><path d=\"M17.41 7.96l-1.37-1.37c-.4-.4-.92-.59-1.43-.59-.52 0-1.04.2-1.43.59L10.3 9.45l-7.72 7.72c-.78.78-.78 2.05 0 2.83L4 21.41c.39.39.9.59 1.41.59.51 0 1.02-.2 1.41-.59l7.78-7.78 2.81-2.81c.8-.78.8-2.07 0-2.86zM5.41 20L4 18.59l7.72-7.72 1.47 1.35L5.41 20z\"/>\n",
              "  </svg>\n",
              "      </button>\n",
              "      \n",
              "  <style>\n",
              "    .colab-df-container {\n",
              "      display:flex;\n",
              "      flex-wrap:wrap;\n",
              "      gap: 12px;\n",
              "    }\n",
              "\n",
              "    .colab-df-convert {\n",
              "      background-color: #E8F0FE;\n",
              "      border: none;\n",
              "      border-radius: 50%;\n",
              "      cursor: pointer;\n",
              "      display: none;\n",
              "      fill: #1967D2;\n",
              "      height: 32px;\n",
              "      padding: 0 0 0 0;\n",
              "      width: 32px;\n",
              "    }\n",
              "\n",
              "    .colab-df-convert:hover {\n",
              "      background-color: #E2EBFA;\n",
              "      box-shadow: 0px 1px 2px rgba(60, 64, 67, 0.3), 0px 1px 3px 1px rgba(60, 64, 67, 0.15);\n",
              "      fill: #174EA6;\n",
              "    }\n",
              "\n",
              "    [theme=dark] .colab-df-convert {\n",
              "      background-color: #3B4455;\n",
              "      fill: #D2E3FC;\n",
              "    }\n",
              "\n",
              "    [theme=dark] .colab-df-convert:hover {\n",
              "      background-color: #434B5C;\n",
              "      box-shadow: 0px 1px 3px 1px rgba(0, 0, 0, 0.15);\n",
              "      filter: drop-shadow(0px 1px 2px rgba(0, 0, 0, 0.3));\n",
              "      fill: #FFFFFF;\n",
              "    }\n",
              "  </style>\n",
              "\n",
              "      <script>\n",
              "        const buttonEl =\n",
              "          document.querySelector('#df-7fda1faa-479a-434a-b88d-fea17d2e6465 button.colab-df-convert');\n",
              "        buttonEl.style.display =\n",
              "          google.colab.kernel.accessAllowed ? 'block' : 'none';\n",
              "\n",
              "        async function convertToInteractive(key) {\n",
              "          const element = document.querySelector('#df-7fda1faa-479a-434a-b88d-fea17d2e6465');\n",
              "          const dataTable =\n",
              "            await google.colab.kernel.invokeFunction('convertToInteractive',\n",
              "                                                     [key], {});\n",
              "          if (!dataTable) return;\n",
              "\n",
              "          const docLinkHtml = 'Like what you see? Visit the ' +\n",
              "            '<a target=\"_blank\" href=https://colab.research.google.com/notebooks/data_table.ipynb>data table notebook</a>'\n",
              "            + ' to learn more about interactive tables.';\n",
              "          element.innerHTML = '';\n",
              "          dataTable['output_type'] = 'display_data';\n",
              "          await google.colab.output.renderOutput(dataTable, element);\n",
              "          const docLink = document.createElement('div');\n",
              "          docLink.innerHTML = docLinkHtml;\n",
              "          element.appendChild(docLink);\n",
              "        }\n",
              "      </script>\n",
              "    </div>\n",
              "  </div>\n",
              "  "
            ]
          },
          "metadata": {},
          "execution_count": 313
        }
      ]
    },
    {
      "cell_type": "markdown",
      "metadata": {
        "id": "uX6utqhCq7Ct"
      },
      "source": [
        "CALCULATING CONTRIBUTION OF EACH FEATURE TO EACH PERSONALITY"
      ]
    },
    {
      "cell_type": "code",
      "execution_count": null,
      "metadata": {
        "id": "tqUwLeLhrH-w"
      },
      "outputs": [],
      "source": [
        "nnn = x.values\n",
        "\n",
        "nn = []\n",
        "for i in range(len(nnn)):\n",
        "  n = []\n",
        "  for j in range(len(nnn[i])):\n",
        "    if(j%2 == 0):\n",
        "      n.append(nnn[i][j])\n",
        "  nn.append(n)    "
      ]
    },
    {
      "cell_type": "code",
      "execution_count": null,
      "metadata": {
        "id": "DAp_Hei5uXvU"
      },
      "outputs": [],
      "source": [
        "nnn = nn\n",
        "import numpy as np\n",
        "\n",
        "\n",
        "data_A = []\n",
        "data_B = []\n",
        "data_C = []\n",
        "data_D = []\n",
        "data_E = []\n",
        "for i in range(len(y)):\n",
        "  if(y[i] == 0 ):\n",
        "    data_A.append(nnn[i])\n",
        "  elif(y[i] == 1 ):\n",
        "    data_B.append(nnn[i])  \n",
        "  elif(y[i] == 2):\n",
        "    data_C.append(nnn[i])\n",
        "  elif(y[i] == 3):\n",
        "    data_D.append(nnn[i])\n",
        "  elif(y[i] == 4):\n",
        "    data_E.append(nnn[i])      "
      ]
    },
    {
      "cell_type": "code",
      "execution_count": null,
      "metadata": {
        "id": "tb1gqnkq7F39"
      },
      "outputs": [],
      "source": [
        "data_A=np.array(data_A)\n",
        "data_B=np.array(data_B)\n",
        "data_C=np.array(data_C)\n",
        "data_D=np.array(data_D)\n",
        "data_E=np.array(data_E)\n",
        "\n",
        "sum_A=np.sum(data_A,axis=0)/len(data_A)\n",
        "sum_B=np.sum(data_B,axis=0)/len(data_B)\n",
        "sum_C=np.sum(data_C,axis=0)/len(data_C)\n",
        "sum_D=np.sum(data_D,axis=0)/len(data_D)\n",
        "sum_E=np.sum(data_E,axis=0)/len(data_E)"
      ]
    },
    {
      "cell_type": "markdown",
      "metadata": {
        "id": "d3BBK8RyxIMK"
      },
      "source": [
        "CONVERTING AND CONCATINATING PERCENTAGE ARRAY"
      ]
    },
    {
      "cell_type": "code",
      "execution_count": null,
      "metadata": {
        "colab": {
          "base_uri": "https://localhost:8080/",
          "height": 270
        },
        "id": "aIOGxKlvFyVh",
        "outputId": "e259504a-66e7-48bb-f3b4-1bd09ab154a4"
      },
      "outputs": [
        {
          "output_type": "execute_result",
          "data": {
            "text/plain": [
              "                   long(Eyebrows)  thick(Eyebrows)  broad(Forehead)  \\\n",
              "openness                 0.543478         0.565217         0.630435   \n",
              "conscientiousness        0.481481         0.666667         0.629630   \n",
              "extraversion             0.658537         0.512195         0.634146   \n",
              "agreeableness            0.363636         0.454545         0.545455   \n",
              "neuroticism              0.375000         0.875000         0.875000   \n",
              "\n",
              "                   Long(Face_shape)  fleshy(Cheek)  Long(Nose)  Sharp(Nose)  \n",
              "openness                   0.500000       0.543478    0.608696     0.391304  \n",
              "conscientiousness          0.518519       0.444444    0.740741     0.222222  \n",
              "extraversion               0.487805       0.585366    0.609756     0.536585  \n",
              "agreeableness              0.363636       0.545455    0.545455     0.363636  \n",
              "neuroticism                0.500000       0.500000    0.375000     0.375000  "
            ],
            "text/html": [
              "\n",
              "  <div id=\"df-75449478-3763-471c-b0b8-e99ecbbd1b0c\">\n",
              "    <div class=\"colab-df-container\">\n",
              "      <div>\n",
              "<style scoped>\n",
              "    .dataframe tbody tr th:only-of-type {\n",
              "        vertical-align: middle;\n",
              "    }\n",
              "\n",
              "    .dataframe tbody tr th {\n",
              "        vertical-align: top;\n",
              "    }\n",
              "\n",
              "    .dataframe thead th {\n",
              "        text-align: right;\n",
              "    }\n",
              "</style>\n",
              "<table border=\"1\" class=\"dataframe\">\n",
              "  <thead>\n",
              "    <tr style=\"text-align: right;\">\n",
              "      <th></th>\n",
              "      <th>long(Eyebrows)</th>\n",
              "      <th>thick(Eyebrows)</th>\n",
              "      <th>broad(Forehead)</th>\n",
              "      <th>Long(Face_shape)</th>\n",
              "      <th>fleshy(Cheek)</th>\n",
              "      <th>Long(Nose)</th>\n",
              "      <th>Sharp(Nose)</th>\n",
              "    </tr>\n",
              "  </thead>\n",
              "  <tbody>\n",
              "    <tr>\n",
              "      <th>openness</th>\n",
              "      <td>0.543478</td>\n",
              "      <td>0.565217</td>\n",
              "      <td>0.630435</td>\n",
              "      <td>0.500000</td>\n",
              "      <td>0.543478</td>\n",
              "      <td>0.608696</td>\n",
              "      <td>0.391304</td>\n",
              "    </tr>\n",
              "    <tr>\n",
              "      <th>conscientiousness</th>\n",
              "      <td>0.481481</td>\n",
              "      <td>0.666667</td>\n",
              "      <td>0.629630</td>\n",
              "      <td>0.518519</td>\n",
              "      <td>0.444444</td>\n",
              "      <td>0.740741</td>\n",
              "      <td>0.222222</td>\n",
              "    </tr>\n",
              "    <tr>\n",
              "      <th>extraversion</th>\n",
              "      <td>0.658537</td>\n",
              "      <td>0.512195</td>\n",
              "      <td>0.634146</td>\n",
              "      <td>0.487805</td>\n",
              "      <td>0.585366</td>\n",
              "      <td>0.609756</td>\n",
              "      <td>0.536585</td>\n",
              "    </tr>\n",
              "    <tr>\n",
              "      <th>agreeableness</th>\n",
              "      <td>0.363636</td>\n",
              "      <td>0.454545</td>\n",
              "      <td>0.545455</td>\n",
              "      <td>0.363636</td>\n",
              "      <td>0.545455</td>\n",
              "      <td>0.545455</td>\n",
              "      <td>0.363636</td>\n",
              "    </tr>\n",
              "    <tr>\n",
              "      <th>neuroticism</th>\n",
              "      <td>0.375000</td>\n",
              "      <td>0.875000</td>\n",
              "      <td>0.875000</td>\n",
              "      <td>0.500000</td>\n",
              "      <td>0.500000</td>\n",
              "      <td>0.375000</td>\n",
              "      <td>0.375000</td>\n",
              "    </tr>\n",
              "  </tbody>\n",
              "</table>\n",
              "</div>\n",
              "      <button class=\"colab-df-convert\" onclick=\"convertToInteractive('df-75449478-3763-471c-b0b8-e99ecbbd1b0c')\"\n",
              "              title=\"Convert this dataframe to an interactive table.\"\n",
              "              style=\"display:none;\">\n",
              "        \n",
              "  <svg xmlns=\"http://www.w3.org/2000/svg\" height=\"24px\"viewBox=\"0 0 24 24\"\n",
              "       width=\"24px\">\n",
              "    <path d=\"M0 0h24v24H0V0z\" fill=\"none\"/>\n",
              "    <path d=\"M18.56 5.44l.94 2.06.94-2.06 2.06-.94-2.06-.94-.94-2.06-.94 2.06-2.06.94zm-11 1L8.5 8.5l.94-2.06 2.06-.94-2.06-.94L8.5 2.5l-.94 2.06-2.06.94zm10 10l.94 2.06.94-2.06 2.06-.94-2.06-.94-.94-2.06-.94 2.06-2.06.94z\"/><path d=\"M17.41 7.96l-1.37-1.37c-.4-.4-.92-.59-1.43-.59-.52 0-1.04.2-1.43.59L10.3 9.45l-7.72 7.72c-.78.78-.78 2.05 0 2.83L4 21.41c.39.39.9.59 1.41.59.51 0 1.02-.2 1.41-.59l7.78-7.78 2.81-2.81c.8-.78.8-2.07 0-2.86zM5.41 20L4 18.59l7.72-7.72 1.47 1.35L5.41 20z\"/>\n",
              "  </svg>\n",
              "      </button>\n",
              "      \n",
              "  <style>\n",
              "    .colab-df-container {\n",
              "      display:flex;\n",
              "      flex-wrap:wrap;\n",
              "      gap: 12px;\n",
              "    }\n",
              "\n",
              "    .colab-df-convert {\n",
              "      background-color: #E8F0FE;\n",
              "      border: none;\n",
              "      border-radius: 50%;\n",
              "      cursor: pointer;\n",
              "      display: none;\n",
              "      fill: #1967D2;\n",
              "      height: 32px;\n",
              "      padding: 0 0 0 0;\n",
              "      width: 32px;\n",
              "    }\n",
              "\n",
              "    .colab-df-convert:hover {\n",
              "      background-color: #E2EBFA;\n",
              "      box-shadow: 0px 1px 2px rgba(60, 64, 67, 0.3), 0px 1px 3px 1px rgba(60, 64, 67, 0.15);\n",
              "      fill: #174EA6;\n",
              "    }\n",
              "\n",
              "    [theme=dark] .colab-df-convert {\n",
              "      background-color: #3B4455;\n",
              "      fill: #D2E3FC;\n",
              "    }\n",
              "\n",
              "    [theme=dark] .colab-df-convert:hover {\n",
              "      background-color: #434B5C;\n",
              "      box-shadow: 0px 1px 3px 1px rgba(0, 0, 0, 0.15);\n",
              "      filter: drop-shadow(0px 1px 2px rgba(0, 0, 0, 0.3));\n",
              "      fill: #FFFFFF;\n",
              "    }\n",
              "  </style>\n",
              "\n",
              "      <script>\n",
              "        const buttonEl =\n",
              "          document.querySelector('#df-75449478-3763-471c-b0b8-e99ecbbd1b0c button.colab-df-convert');\n",
              "        buttonEl.style.display =\n",
              "          google.colab.kernel.accessAllowed ? 'block' : 'none';\n",
              "\n",
              "        async function convertToInteractive(key) {\n",
              "          const element = document.querySelector('#df-75449478-3763-471c-b0b8-e99ecbbd1b0c');\n",
              "          const dataTable =\n",
              "            await google.colab.kernel.invokeFunction('convertToInteractive',\n",
              "                                                     [key], {});\n",
              "          if (!dataTable) return;\n",
              "\n",
              "          const docLinkHtml = 'Like what you see? Visit the ' +\n",
              "            '<a target=\"_blank\" href=https://colab.research.google.com/notebooks/data_table.ipynb>data table notebook</a>'\n",
              "            + ' to learn more about interactive tables.';\n",
              "          element.innerHTML = '';\n",
              "          dataTable['output_type'] = 'display_data';\n",
              "          await google.colab.output.renderOutput(dataTable, element);\n",
              "          const docLink = document.createElement('div');\n",
              "          docLink.innerHTML = docLinkHtml;\n",
              "          element.appendChild(docLink);\n",
              "        }\n",
              "      </script>\n",
              "    </div>\n",
              "  </div>\n",
              "  "
            ]
          },
          "metadata": {},
          "execution_count": 317
        }
      ],
      "source": [
        "start=0\n",
        "end=7\n",
        "sum_A=pd.DataFrame(sum_A).transpose()\n",
        "sum_B=pd.DataFrame(sum_B).transpose()\n",
        "sum_C=pd.DataFrame(sum_C).transpose()\n",
        "sum_D=pd.DataFrame(sum_D).transpose()\n",
        "sum_E=pd.DataFrame(sum_E).transpose()\n",
        "op=sum_A.iloc [:,:]\n",
        "co=sum_B.iloc [:,:]\n",
        "ex=sum_C.iloc [:,:]\n",
        "ag=sum_D.iloc [:,:]\n",
        "ne=sum_E.iloc [:,:]\n",
        "new=pd.concat([op,co,ex,ag,ne],axis=0)\n",
        "new.columns=['long(Eyebrows)','thick(Eyebrows)','broad(Forehead)','Long(Face_shape)','fleshy(Cheek)','Long(Nose)','Sharp(Nose)']\n",
        "new.index=['openness','conscientiousness','extraversion','agreeableness','neuroticism']\n",
        "new.head()"
      ]
    },
    {
      "cell_type": "markdown",
      "metadata": {
        "id": "kqMz0B9ArOvG"
      },
      "source": [
        "HEATMAP FOR EVERY FEATURE WITH EVERY FEATRUE"
      ]
    },
    {
      "cell_type": "code",
      "execution_count": null,
      "metadata": {
        "colab": {
          "base_uri": "https://localhost:8080/",
          "height": 497
        },
        "id": "MB9P9DcSrZ1h",
        "outputId": "b423d2df-28ba-4fb8-aeb5-a7650992bf52"
      },
      "outputs": [
        {
          "output_type": "execute_result",
          "data": {
            "text/plain": [
              "<Axes: >"
            ]
          },
          "metadata": {},
          "execution_count": 318
        },
        {
          "output_type": "display_data",
          "data": {
            "text/plain": [
              "<Figure size 640x480 with 2 Axes>"
            ],
            "image/png": "[encoded data removed]"
          },
          "metadata": {}
        }
      ],
      "source": [
        "import seaborn as sns\n",
        "\n",
        "corr_matrix = x.corr()\n",
        "\n",
        "# Plot heatmap\n",
        "sns.heatmap(corr_matrix, cmap=\"YlGnBu\")"
      ]
    },
    {
      "cell_type": "markdown",
      "metadata": {
        "id": "_9MTvcsWrbkD"
      },
      "source": [
        "##**SPLITING THE DATASET INTO TRAINING AND TESTING**"
      ]
    },
    {
      "cell_type": "code",
      "execution_count": null,
      "metadata": {
        "id": "V0YsSVRJ74M2"
      },
      "outputs": [],
      "source": [
        "from sklearn.preprocessing import LabelEncoder\n",
        "X_train, X_test, y_train, y_test = train_test_split(x, y, test_size=0.4, stratify=y, random_state=42)"
      ]
    },
    {
      "cell_type": "code",
      "execution_count": null,
      "metadata": {
        "colab": {
          "base_uri": "https://localhost:8080/"
        },
        "id": "SEnfL3yLN3dH",
        "outputId": "e0cc48a6-68b7-4d78-def3-c91d6ee029fa"
      },
      "outputs": [
        {
          "output_type": "execute_result",
          "data": {
            "text/plain": [
              "(79, 14)"
            ]
          },
          "metadata": {},
          "execution_count": 320
        }
      ],
      "source": [
        "X_train.shape"
      ]
    },
    {
      "cell_type": "markdown",
      "metadata": {
        "id": "2DiKBY1kruet"
      },
      "source": [
        "DECISION TREE"
      ]
    },
    {
      "cell_type": "code",
      "execution_count": null,
      "metadata": {
        "colab": {
          "base_uri": "https://localhost:8080/"
        },
        "id": "z1RFTZP6jhih",
        "outputId": "f70cb1de-f0c7-453f-8f4b-a6d455ee106b"
      },
      "outputs": [
        {
          "output_type": "stream",
          "name": "stdout",
          "text": [
            "Accuracy: 0.37037037037037035\n"
          ]
        }
      ],
      "source": [
        "model_dt = DecisionTreeClassifier(random_state = 30)\n",
        "model_dt.fit(X_train, y_train)\n",
        "\n",
        "# use the model to make predictions on the test data\n",
        "decision_y_pred = model_dt.predict(X_test)\n",
        "accuracy_decision = accuracy_score(y_test, decision_y_pred)\n",
        "print(\"Accuracy:\", accuracy_decision)"
      ]
    },
    {
      "cell_type": "code",
      "execution_count": null,
      "metadata": {
        "colab": {
          "base_uri": "https://localhost:8080/"
        },
        "id": "p4HwPq-glG4h",
        "outputId": "bc50e190-195e-421c-e01b-d9102b4019ec"
      },
      "outputs": [
        {
          "output_type": "stream",
          "name": "stdout",
          "text": [
            "                   precision    recall  f1-score   support\n",
            "\n",
            "         Openness       0.37      0.58      0.45        19\n",
            "Conscientiousness       0.12      0.09      0.11        11\n",
            "     Extraversion       0.57      0.47      0.52        17\n",
            "    Agreeableness       0.00      0.00      0.00         4\n",
            "      Neuroticism       0.00      0.00      0.00         3\n",
            "\n",
            "         accuracy                           0.37        54\n",
            "        macro avg       0.21      0.23      0.21        54\n",
            "     weighted avg       0.33      0.37      0.34        54\n",
            "\n"
          ]
        },
        {
          "output_type": "stream",
          "name": "stderr",
          "text": [
            "/usr/local/lib/python3.10/dist-packages/sklearn/metrics/_classification.py:1344: UndefinedMetricWarning: Precision and F-score are ill-defined and being set to 0.0 in labels with no predicted samples. Use `zero_division` parameter to control this behavior.\n",
            "  _warn_prf(average, modifier, msg_start, len(result))\n",
            "/usr/local/lib/python3.10/dist-packages/sklearn/metrics/_classification.py:1344: UndefinedMetricWarning: Precision and F-score are ill-defined and being set to 0.0 in labels with no predicted samples. Use `zero_division` parameter to control this behavior.\n",
            "  _warn_prf(average, modifier, msg_start, len(result))\n",
            "/usr/local/lib/python3.10/dist-packages/sklearn/metrics/_classification.py:1344: UndefinedMetricWarning: Precision and F-score are ill-defined and being set to 0.0 in labels with no predicted samples. Use `zero_division` parameter to control this behavior.\n",
            "  _warn_prf(average, modifier, msg_start, len(result))\n"
          ]
        }
      ],
      "source": [
        "from sklearn.metrics import classification_report \n",
        "target_names = ['Openness', 'Conscientiousness' , 'Extraversion' , 'Agreeableness' , 'Neuroticism']\n",
        "print(classification_report(y_test, decision_y_pred, target_names=target_names))"
      ]
    },
    {
      "cell_type": "markdown",
      "metadata": {
        "id": "gAmN12qArw5R"
      },
      "source": [
        "RANDOM FOREST"
      ]
    },
    {
      "cell_type": "code",
      "execution_count": null,
      "metadata": {
        "colab": {
          "base_uri": "https://localhost:8080/"
        },
        "id": "6Y0d7Vf84uI3",
        "outputId": "8ea02aa7-7c96-44aa-c95e-e4d77a10db02"
      },
      "outputs": [
        {
          "output_type": "stream",
          "name": "stdout",
          "text": [
            "Accuracy: 0.3888888888888889\n"
          ]
        }
      ],
      "source": [
        "Random = RandomForestClassifier(random_state = 42)\n",
        "\n",
        "# Training the classifier on the training set\n",
        "Random.fit(X_train, y_train)\n",
        "\n",
        "# Making predictions on the testing set\n",
        "Rando_y_pred = Random.predict(X_test)\n",
        "\n",
        "accuracy = accuracy_score(y_test, Rando_y_pred)\n",
        "print(\"Accuracy:\", accuracy)"
      ]
    },
    {
      "cell_type": "code",
      "execution_count": null,
      "metadata": {
        "colab": {
          "base_uri": "https://localhost:8080/"
        },
        "id": "j2jKqeH9h1Du",
        "outputId": "38e88c25-cc43-4acd-9438-d33431f09b3b"
      },
      "outputs": [
        {
          "output_type": "stream",
          "name": "stdout",
          "text": [
            "                   precision    recall  f1-score   support\n",
            "\n",
            "         Openness       0.41      0.79      0.54        19\n",
            "Conscientiousness       0.00      0.00      0.00        11\n",
            "     Extraversion       0.55      0.35      0.43        17\n",
            "    Agreeableness       0.00      0.00      0.00         4\n",
            "      Neuroticism       0.00      0.00      0.00         3\n",
            "\n",
            "         accuracy                           0.39        54\n",
            "        macro avg       0.19      0.23      0.19        54\n",
            "     weighted avg       0.31      0.39      0.32        54\n",
            "\n"
          ]
        },
        {
          "output_type": "stream",
          "name": "stderr",
          "text": [
            "/usr/local/lib/python3.10/dist-packages/sklearn/metrics/_classification.py:1344: UndefinedMetricWarning: Precision and F-score are ill-defined and being set to 0.0 in labels with no predicted samples. Use `zero_division` parameter to control this behavior.\n",
            "  _warn_prf(average, modifier, msg_start, len(result))\n",
            "/usr/local/lib/python3.10/dist-packages/sklearn/metrics/_classification.py:1344: UndefinedMetricWarning: Precision and F-score are ill-defined and being set to 0.0 in labels with no predicted samples. Use `zero_division` parameter to control this behavior.\n",
            "  _warn_prf(average, modifier, msg_start, len(result))\n",
            "/usr/local/lib/python3.10/dist-packages/sklearn/metrics/_classification.py:1344: UndefinedMetricWarning: Precision and F-score are ill-defined and being set to 0.0 in labels with no predicted samples. Use `zero_division` parameter to control this behavior.\n",
            "  _warn_prf(average, modifier, msg_start, len(result))\n"
          ]
        }
      ],
      "source": [
        "from sklearn.metrics import classification_report \n",
        "print(classification_report(y_test, Rando_y_pred, target_names=target_names))"
      ]
    },
    {
      "cell_type": "code",
      "execution_count": null,
      "metadata": {
        "id": "PsL6hXN4GrVt"
      },
      "outputs": [],
      "source": []
    },
    {
      "cell_type": "markdown",
      "metadata": {
        "id": "4dHDlBQnh4T1"
      },
      "source": [
        "GRADIENT BOOSTING"
      ]
    },
    {
      "cell_type": "code",
      "execution_count": null,
      "metadata": {
        "colab": {
          "base_uri": "https://localhost:8080/"
        },
        "id": "diPUmIB6f_33",
        "outputId": "52229fdb-8565-45ff-fcce-c208d50f824d"
      },
      "outputs": [
        {
          "output_type": "stream",
          "name": "stdout",
          "text": [
            "Accuracy: 0.42592592592592593\n"
          ]
        }
      ],
      "source": [
        "model=GradientBoostingClassifier()\n",
        "model.fit(X_train, y_train)\n",
        "gradient_y_pred = model.predict(X_test)\n",
        "accuracy_gradient = accuracy_score(y_test, gradient_y_pred)\n",
        "print(\"Accuracy:\", accuracy_gradient)"
      ]
    },
    {
      "cell_type": "code",
      "execution_count": null,
      "metadata": {
        "colab": {
          "base_uri": "https://localhost:8080/"
        },
        "id": "Otyf7cqjd6-z",
        "outputId": "d7f2e146-d2f0-422c-86fe-ff93d6ca75de"
      },
      "outputs": [
        {
          "output_type": "stream",
          "name": "stdout",
          "text": [
            "                   precision    recall  f1-score   support\n",
            "\n",
            "         Openness       0.46      0.63      0.53        19\n",
            "Conscientiousness       0.20      0.18      0.19        11\n",
            "     Extraversion       0.53      0.47      0.50        17\n",
            "    Agreeableness       0.33      0.25      0.29         4\n",
            "      Neuroticism       0.00      0.00      0.00         3\n",
            "\n",
            "         accuracy                           0.43        54\n",
            "        macro avg       0.31      0.31      0.30        54\n",
            "     weighted avg       0.40      0.43      0.41        54\n",
            "\n"
          ]
        },
        {
          "output_type": "stream",
          "name": "stderr",
          "text": [
            "/usr/local/lib/python3.10/dist-packages/sklearn/metrics/_classification.py:1344: UndefinedMetricWarning: Precision and F-score are ill-defined and being set to 0.0 in labels with no predicted samples. Use `zero_division` parameter to control this behavior.\n",
            "  _warn_prf(average, modifier, msg_start, len(result))\n",
            "/usr/local/lib/python3.10/dist-packages/sklearn/metrics/_classification.py:1344: UndefinedMetricWarning: Precision and F-score are ill-defined and being set to 0.0 in labels with no predicted samples. Use `zero_division` parameter to control this behavior.\n",
            "  _warn_prf(average, modifier, msg_start, len(result))\n",
            "/usr/local/lib/python3.10/dist-packages/sklearn/metrics/_classification.py:1344: UndefinedMetricWarning: Precision and F-score are ill-defined and being set to 0.0 in labels with no predicted samples. Use `zero_division` parameter to control this behavior.\n",
            "  _warn_prf(average, modifier, msg_start, len(result))\n"
          ]
        }
      ],
      "source": [
        "print(classification_report(y_test, gradient_y_pred, target_names=target_names))"
      ]
    },
    {
      "cell_type": "markdown",
      "metadata": {
        "id": "E7qeJQeLsAF5"
      },
      "source": [
        "K NEIGHBORS"
      ]
    },
    {
      "cell_type": "code",
      "execution_count": null,
      "metadata": {
        "id": "cOkQL_2ViQ9j"
      },
      "outputs": [],
      "source": [
        "knn = KNeighborsClassifier(n_neighbors=3)\n",
        "knn.fit(X_train, y_train)\n",
        "\n",
        "# Predict the test set labels\n",
        "knn_y_pred = knn.predict(X_test)"
      ]
    },
    {
      "cell_type": "code",
      "execution_count": null,
      "metadata": {
        "colab": {
          "base_uri": "https://localhost:8080/"
        },
        "id": "8mJ7lti9ie9f",
        "outputId": "06310b32-4150-4a68-b3c7-01c20a329d2e"
      },
      "outputs": [
        {
          "output_type": "stream",
          "name": "stdout",
          "text": [
            "                   precision    recall  f1-score   support\n",
            "\n",
            "         Openness       0.28      0.42      0.33        19\n",
            "Conscientiousness       0.00      0.00      0.00        11\n",
            "     Extraversion       0.23      0.18      0.20        17\n",
            "    Agreeableness       0.00      0.00      0.00         4\n",
            "      Neuroticism       0.00      0.00      0.00         3\n",
            "\n",
            "         accuracy                           0.20        54\n",
            "        macro avg       0.10      0.12      0.11        54\n",
            "     weighted avg       0.17      0.20      0.18        54\n",
            "\n"
          ]
        },
        {
          "output_type": "stream",
          "name": "stderr",
          "text": [
            "/usr/local/lib/python3.10/dist-packages/sklearn/metrics/_classification.py:1344: UndefinedMetricWarning: Precision and F-score are ill-defined and being set to 0.0 in labels with no predicted samples. Use `zero_division` parameter to control this behavior.\n",
            "  _warn_prf(average, modifier, msg_start, len(result))\n",
            "/usr/local/lib/python3.10/dist-packages/sklearn/metrics/_classification.py:1344: UndefinedMetricWarning: Precision and F-score are ill-defined and being set to 0.0 in labels with no predicted samples. Use `zero_division` parameter to control this behavior.\n",
            "  _warn_prf(average, modifier, msg_start, len(result))\n",
            "/usr/local/lib/python3.10/dist-packages/sklearn/metrics/_classification.py:1344: UndefinedMetricWarning: Precision and F-score are ill-defined and being set to 0.0 in labels with no predicted samples. Use `zero_division` parameter to control this behavior.\n",
            "  _warn_prf(average, modifier, msg_start, len(result))\n"
          ]
        }
      ],
      "source": [
        "print(classification_report(y_test, knn_y_pred, target_names=target_names))"
      ]
    },
    {
      "cell_type": "markdown",
      "metadata": {
        "id": "pc3fdMjQsDX3"
      },
      "source": [
        "**SVM**"
      ]
    },
    {
      "cell_type": "code",
      "execution_count": null,
      "metadata": {
        "id": "lhxXSTTMizrJ"
      },
      "outputs": [],
      "source": [
        "svm = SVC(kernel='linear' , C = 0.1)\n",
        "\n",
        "# Fit the classifier to the training data\n",
        "svm.fit(X_train, y_train)\n",
        "\n",
        "# Predict the test set labels\n",
        "svm_y_pred = svm.predict(X_test)"
      ]
    },
    {
      "cell_type": "code",
      "execution_count": null,
      "metadata": {
        "colab": {
          "base_uri": "https://localhost:8080/"
        },
        "id": "Nb8RCdKJi193",
        "outputId": "97d44092-6702-4cc8-e0d1-9941b68021c7"
      },
      "outputs": [
        {
          "output_type": "stream",
          "name": "stdout",
          "text": [
            "                   precision    recall  f1-score   support\n",
            "\n",
            "         Openness       0.38      0.95      0.54        19\n",
            "Conscientiousness       0.00      0.00      0.00        11\n",
            "     Extraversion       0.50      0.18      0.26        17\n",
            "    Agreeableness       0.00      0.00      0.00         4\n",
            "      Neuroticism       0.00      0.00      0.00         3\n",
            "\n",
            "         accuracy                           0.39        54\n",
            "        macro avg       0.17      0.22      0.16        54\n",
            "     weighted avg       0.29      0.39      0.27        54\n",
            "\n"
          ]
        },
        {
          "output_type": "stream",
          "name": "stderr",
          "text": [
            "/usr/local/lib/python3.10/dist-packages/sklearn/metrics/_classification.py:1344: UndefinedMetricWarning: Precision and F-score are ill-defined and being set to 0.0 in labels with no predicted samples. Use `zero_division` parameter to control this behavior.\n",
            "  _warn_prf(average, modifier, msg_start, len(result))\n",
            "/usr/local/lib/python3.10/dist-packages/sklearn/metrics/_classification.py:1344: UndefinedMetricWarning: Precision and F-score are ill-defined and being set to 0.0 in labels with no predicted samples. Use `zero_division` parameter to control this behavior.\n",
            "  _warn_prf(average, modifier, msg_start, len(result))\n",
            "/usr/local/lib/python3.10/dist-packages/sklearn/metrics/_classification.py:1344: UndefinedMetricWarning: Precision and F-score are ill-defined and being set to 0.0 in labels with no predicted samples. Use `zero_division` parameter to control this behavior.\n",
            "  _warn_prf(average, modifier, msg_start, len(result))\n"
          ]
        }
      ],
      "source": [
        "print(classification_report(y_test, svm_y_pred, target_names=target_names))"
      ]
    },
    {
      "cell_type": "markdown",
      "metadata": {
        "id": "nnT6mIvysG2t"
      },
      "source": [
        "LOGISTIC REGRESSION"
      ]
    },
    {
      "cell_type": "code",
      "execution_count": null,
      "metadata": {
        "id": "ug6ts_rDMkjD"
      },
      "outputs": [],
      "source": [
        "lr = LogisticRegression(random_state=42)\n",
        "\n",
        "# Train the model\n",
        "lr.fit(X_train, y_train)\n",
        "\n",
        "# Predict on test set\n",
        "Logistic_y_pred = lr.predict(X_test)"
      ]
    },
    {
      "cell_type": "code",
      "execution_count": null,
      "metadata": {
        "colab": {
          "base_uri": "https://localhost:8080/"
        },
        "id": "_EMFsPc3Mlat",
        "outputId": "f3602a50-3f9b-4ee0-8635-58f789cefff5"
      },
      "outputs": [
        {
          "output_type": "stream",
          "name": "stdout",
          "text": [
            "                   precision    recall  f1-score   support\n",
            "\n",
            "         Openness       0.34      0.53      0.42        19\n",
            "Conscientiousness       0.22      0.18      0.20        11\n",
            "     Extraversion       0.38      0.35      0.36        17\n",
            "    Agreeableness       0.00      0.00      0.00         4\n",
            "      Neuroticism       0.00      0.00      0.00         3\n",
            "\n",
            "         accuracy                           0.33        54\n",
            "        macro avg       0.19      0.21      0.20        54\n",
            "     weighted avg       0.28      0.33      0.30        54\n",
            "\n"
          ]
        },
        {
          "output_type": "stream",
          "name": "stderr",
          "text": [
            "/usr/local/lib/python3.10/dist-packages/sklearn/metrics/_classification.py:1344: UndefinedMetricWarning: Precision and F-score are ill-defined and being set to 0.0 in labels with no predicted samples. Use `zero_division` parameter to control this behavior.\n",
            "  _warn_prf(average, modifier, msg_start, len(result))\n",
            "/usr/local/lib/python3.10/dist-packages/sklearn/metrics/_classification.py:1344: UndefinedMetricWarning: Precision and F-score are ill-defined and being set to 0.0 in labels with no predicted samples. Use `zero_division` parameter to control this behavior.\n",
            "  _warn_prf(average, modifier, msg_start, len(result))\n",
            "/usr/local/lib/python3.10/dist-packages/sklearn/metrics/_classification.py:1344: UndefinedMetricWarning: Precision and F-score are ill-defined and being set to 0.0 in labels with no predicted samples. Use `zero_division` parameter to control this behavior.\n",
            "  _warn_prf(average, modifier, msg_start, len(result))\n"
          ]
        }
      ],
      "source": [
        "print(classification_report(y_test, Logistic_y_pred, target_names=target_names))"
      ]
    },
    {
      "cell_type": "markdown",
      "metadata": {
        "id": "UOduMaqhw2K1"
      },
      "source": [
        "PLOT EACH FEATURE WITH IT'S IMPORTANCE"
      ]
    },
    {
      "cell_type": "code",
      "execution_count": null,
      "metadata": {
        "colab": {
          "base_uri": "https://localhost:8080/",
          "height": 539
        },
        "id": "UVSUGOdZwcVI",
        "outputId": "ec29ef51-c1a1-4136-9243-42b1b843b230"
      },
      "outputs": [
        {
          "output_type": "stream",
          "name": "stdout",
          "text": [
            "[0.07955087 0.06495916 0.07666236 0.07408157 0.09058282 0.08545556\n",
            " 0.06636319 0.08013025 0.07119411 0.0597253  0.06635584 0.05553198\n",
            " 0.0706412  0.0587658 ]\n"
          ]
        },
        {
          "output_type": "display_data",
          "data": {
            "text/plain": [
              "<Figure size 1000x500 with 1 Axes>"
            ],
            "image/png": "[encoded data removed]"
          },
          "metadata": {}
        }
      ],
      "source": [
        "import numpy as np\n",
        "importances = Random.feature_importances_\n",
        "print(importances)\n",
        "indices = np.array(x)\n",
        "plt.figure(figsize=(10, 5))\n",
        "plt.bar(range(len(importances)), importances, align='center')\n",
        "# plt.xticks(len(importances), indices, rotation='vertical')\n",
        "plt.title(\"Feature importances\")\n",
        "plt.xlabel(\"Feature\")\n",
        "plt.ylabel(\"Importance\")\n",
        "plt.show()"
      ]
    },
    {
      "cell_type": "markdown",
      "metadata": {
        "id": "3eBGrbss4yZi"
      },
      "source": [
        "## PLOT OF EACH MODEL"
      ]
    },
    {
      "cell_type": "code",
      "execution_count": null,
      "metadata": {
        "colab": {
          "base_uri": "https://localhost:8080/",
          "height": 452
        },
        "id": "ThxE16q7pdEP",
        "outputId": "5a8119e9-6b73-4e50-f351-3cee2d294f2a"
      },
      "outputs": [
        {
          "output_type": "display_data",
          "data": {
            "text/plain": [
              "<Figure size 640x480 with 1 Axes>"
            ],
            "image/png": "[encoded data removed]"
          },
          "metadata": {}
        }
      ],
      "source": [
        "classifiers = [DecisionTreeClassifier(), RandomForestClassifier(), GradientBoostingClassifier(),KNeighborsClassifier() , SVC() , LogisticRegression()]\n",
        "names = ['D_Tree', 'R_Forest', 'G_Boosting','KNN' ,'SVM' , 'Logist_Regr']\n",
        "accuracies = []\n",
        "\n",
        "for clf in classifiers:\n",
        "    clf.fit(X_train, y_train)\n",
        "    y_pred = clf.predict(X_test)\n",
        "    accuracies.append(accuracy_score(y_test, y_pred))\n",
        "\n",
        "# Plot the results\n",
        "y_pos = np.arange(len(names))\n",
        "plt.bar(y_pos, accuracies, align='center', alpha=0.9)\n",
        "plt.xticks(y_pos, names)\n",
        "plt.ylabel('Accuracy')\n",
        "plt.title('Classifier Comparison')\n",
        "\n",
        "plt.show()"
      ]
    },
    {
      "cell_type": "markdown",
      "metadata": {
        "id": "KIdU3_JMwKj6"
      },
      "source": [
        "**PREDICTING A CUSTOM INPUT**"
      ]
    },
    {
      "cell_type": "code",
      "execution_count": null,
      "metadata": {
        "colab": {
          "base_uri": "https://localhost:8080/"
        },
        "id": "7dlea5o_JACp",
        "outputId": "49ce198c-a351-4b98-b5dc-aff0b4cef035"
      },
      "outputs": [
        {
          "output_type": "stream",
          "name": "stderr",
          "text": [
            "/usr/local/lib/python3.10/dist-packages/sklearn/base.py:439: UserWarning: X does not have valid feature names, but KNeighborsClassifier was fitted with feature names\n",
            "  warnings.warn(\n"
          ]
        }
      ],
      "source": [
        "Tesing = [[0 ,1 ,0 ,1 ,0,0,0,1,1,1,1,0,1,1]]\n",
        "\n",
        "Testing = np.array(Tesing)\n",
        "Testing_pred = knn.predict(Testing)"
      ]
    },
    {
      "cell_type": "code",
      "execution_count": null,
      "metadata": {
        "colab": {
          "base_uri": "https://localhost:8080/"
        },
        "id": "aOk06LTnNnVm",
        "outputId": "e1cdb048-c8bf-49d8-8eb4-da4062da7cbd"
      },
      "outputs": [
        {
          "output_type": "stream",
          "name": "stdout",
          "text": [
            "Extraversion\n"
          ]
        }
      ],
      "source": [
        "print(target_names[int(Testing_pred)])"
      ]
    },
    {
      "cell_type": "code",
      "execution_count": null,
      "metadata": {
        "id": "FwazpHbYRbCK"
      },
      "outputs": [],
      "source": [
        "# arr = []\n",
        "# print(\"EYES\")\n",
        "# lon = input(\"long or short\\n\")\n",
        "# if lon==\"long\":\n",
        "#   arr.append(1)\n",
        "#   arr.append(0) \n",
        "# else :\n",
        "#   arr.append(0)\n",
        "#   arr.append(1)\n",
        "# thick = input(\"thick or thin\\n\")\n",
        "# if thick==\"thick\":\n",
        "#   arr.append(1)\n",
        "#   arr.append(0) \n",
        "# else :\n",
        "#   arr.append(0)\n",
        "#   arr.append(1)\n",
        "# print(\"FOREHEAD\")\n",
        "# broad = input(\"broad or tiny\\n\")\n",
        "# if broad==\"broad\":\n",
        "#   arr.append(1)\n",
        "#   arr.append(0) \n",
        "# else :\n",
        "#   arr.append(0)\n",
        "#   arr.append(1)\n",
        "# print(\"FACE\")\n",
        "# Long = input(\"long or wide\\n\")\n",
        "# if Long==\"long\":\n",
        "#   arr.append(1)\n",
        "#   arr.append(0) \n",
        "# else :\n",
        "#   arr.append(0)\n",
        "#   arr.append(1)\n",
        "# print(\"CHEEK\")\n",
        "# Fleshy = input(\"fleshy or normal\\n\")\n",
        "# if Fleshy==\"Fleshy\":\n",
        "#   arr.append(1)\n",
        "#   arr.append(0) \n",
        "# else :\n",
        "#   arr.append(0)\n",
        "#   arr.append(1)\n",
        "# print(\"NOSE\")\n",
        "# lon_nose = input(\"long or short\\n\")\n",
        "# if lon_nose==\"long\":\n",
        "#   arr.append(1)\n",
        "#   arr.append(0) \n",
        "# else :\n",
        "#   arr.append(0)\n",
        "#   arr.append(1)\n",
        "# sharp_nose = input(\"sharp or blunt\\n\")\n",
        "# if sharp_nose==\"sharp\":\n",
        "#   arr.append(1)\n",
        "#   arr.append(0) \n",
        "# else :\n",
        "#   arr.append(0)\n",
        "#   arr.append(1)"
      ]
    },
    {
      "cell_type": "code",
      "execution_count": null,
      "metadata": {
        "id": "QlZ0iYvYRg5Q"
      },
      "outputs": [],
      "source": [
        "# Testing = []\n",
        "# Testing.append(arr)\n",
        "# Testing = np.array(Tesing)\n",
        "# Testing_pred = knn.predict(Testing)\n",
        "# print(target_names[int(Testing_pred)])"
      ]
    }
  ],
  "metadata": {
    "colab": {
      "provenance": []
    },
    "kernelspec": {
      "display_name": "Python 3",
      "name": "python3"
    },
    "language_info": {
      "name": "python"
    }
  },
  "nbformat": 4,
  "nbformat_minor": 0
}